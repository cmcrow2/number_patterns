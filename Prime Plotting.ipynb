{
 "cells": [
  {
   "cell_type": "markdown",
   "id": "7c4e9674-c199-4b1b-b26e-815df06f88c3",
   "metadata": {},
   "source": [
    "# Objective\n",
    "\n",
    "## Plot Prime Numbers"
   ]
  },
  {
   "cell_type": "code",
   "execution_count": 1,
   "id": "8c6f268f-73ae-4c34-9c9b-f4ddbe0c3b9a",
   "metadata": {},
   "outputs": [
    {
     "data": {
      "image/png": "[encoded data removed]",
      "text/plain": [
       "<Figure size 640x480 with 1 Axes>"
      ]
     },
     "metadata": {},
     "output_type": "display_data"
    }
   ],
   "source": [
    "# import matplotlib.pyplot as plt\n",
    "\n",
    "# These are the first 9 numbers at cords (0,0)()\n",
    "# xcords = [0, 0, 1, 1, 1, 0, -1, -1, -1]\n",
    "# ycords = [0, 1, 1, 0, -1, -1, -1, 0, 1]\n",
    "\n",
    "# plt.plot(xcords, ycords, 'o')\n",
    "# plt.axis([0, 6, 0, 20])\n",
    "\n",
    "# plt.show()\n",
    "\n",
    "from numpy import random\n",
    "import matplotlib.pyplot as plt\n",
    "\n",
    "data = random.random((5,5))\n",
    "img = plt.imshow(data, interpolation='nearest')\n",
    "img.set_cmap('hot')\n",
    "plt.axis('off')\n",
    "# plt.savefig(\"test.png\", bbox_inches='tight')\n",
    "\n",
    "plt.show()\n"
   ]
  },
  {
   "cell_type": "code",
   "execution_count": null,
   "id": "43d2deb5-007f-4b51-9924-ad6f50a00722",
   "metadata": {},
   "outputs": [],
   "source": []
  }
 ],
 "metadata": {
  "kernelspec": {
   "display_name": "Python 3 (ipykernel)",
   "language": "python",
   "name": "python3"
  },
  "language_info": {
   "codemirror_mode": {
    "name": "ipython",
    "version": 3
   },
   "file_extension": ".py",
   "mimetype": "text/x-python",
   "name": "python",
   "nbconvert_exporter": "python",
   "pygments_lexer": "ipython3",
   "version": "3.9.13"
  }
 },
 "nbformat": 4,
 "nbformat_minor": 5
}

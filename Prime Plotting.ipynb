{
 "cells": [
  {
   "cell_type": "markdown",
   "id": "7c4e9674-c199-4b1b-b26e-815df06f88c3",
   "metadata": {},
   "source": [
    "# Objective\n",
    "\n",
    "## Plot Prime Numbers"
   ]
  },
  {
   "cell_type": "code",
   "execution_count": 1,
   "id": "8c6f268f-73ae-4c34-9c9b-f4ddbe0c3b9a",
   "metadata": {},
   "outputs": [
    {
     "data": {
      "image/png": "[encoded data removed]",
      "text/plain": [
       "<Figure size 640x480 with 1 Axes>"
      ]
     },
     "metadata": {},
     "output_type": "display_data"
    }
   ],
   "source": [
    "# import matplotlib.pyplot as plt\n",
    "\n",
    "# These are the first 9 numbers at cords (0,0)()\n",
    "# xcords = [0, 0, 1, 1, 1, 0, -1, -1, -1]\n",
    "# ycords = [0, 1, 1, 0, -1, -1, -1, 0, 1]\n",
    "\n",
    "# plt.plot(xcords, ycords, 'o')\n",
    "# plt.axis([0, 6, 0, 20])\n",
    "\n",
    "# plt.show()\n",
    "\n",
    "from numpy import random\n",
    "import matplotlib.pyplot as plt\n",
    "\n",
    "data = random.random((5,5))\n",
    "img = plt.imshow(data, interpolation='nearest')\n",
    "img.set_cmap('hot')\n",
    "plt.axis('off')\n",
    "# plt.savefig(\"test.png\", bbox_inches='tight')\n",
    "\n",
    "plt.show()\n"
   ]
  },
  {
   "cell_type": "code",
   "execution_count": 13,
   "id": "43d2deb5-007f-4b51-9924-ad6f50a00722",
   "metadata": {},
   "outputs": [],
   "source": [
    "def is_prime(n):\n",
    "    # Check if the number is greater than 1\n",
    "\n",
    "    if n > 1:\n",
    "        for i in range(2, int(n/2)+1):\n",
    "            if (n % i) == 0:\n",
    "                return False\n",
    "                break\n",
    "        else:\n",
    "            return True\n",
    "    # If the number is less than 1, its also not a prime number.\n",
    "    else:\n",
    "        return False"
   ]
  },
  {
   "cell_type": "code",
   "execution_count": 19,
   "id": "a357e075-714c-451b-8dbf-8fe66da26995",
   "metadata": {},
   "outputs": [
    {
     "name": "stdout",
     "output_type": "stream",
     "text": [
      "not Prime\n"
     ]
    }
   ],
   "source": [
    "n = 145\n",
    "\n",
    "if is_prime(n):\n",
    "    print(\"prime\")\n",
    "else:\n",
    "    print(\"not Prime\")"
   ]
  },
  {
   "cell_type": "markdown",
   "id": "1ebef9ae-8799-438c-9a71-5687876311e2",
   "metadata": {},
   "source": [
    "# Attempt 2"
   ]
  },
  {
   "cell_type": "code",
   "execution_count": 2,
   "id": "e55130d8-3dca-4d42-8e0f-c821c1a5937a",
   "metadata": {},
   "outputs": [
    {
     "name": "stdin",
     "output_type": "stream",
     "text": [
      "Which pattern do you want to see?\n",
      "\n",
      "\t[1] : Primes\n",
      "\n",
      "Enter the number that corresponds to\n",
      "the program you wish to run:  1\n"
     ]
    },
    {
     "name": "stdout",
     "output_type": "stream",
     "text": [
      "\n",
      "\n",
      "Number of Primes in 100 numbers:  25\n"
     ]
    },
    {
     "data": {
      "image/png": "[encoded data removed]",
      "text/plain": [
       "<Figure size 640x480 with 1 Axes>"
      ]
     },
     "metadata": {},
     "output_type": "display_data"
    }
   ],
   "source": [
    "import matplotlib.pyplot as plt\n",
    "from global_functions.primes import *\n",
    "from global_functions.detect_primes import *\n",
    "\n",
    "options = \"\"\n",
    "programs = {\n",
    "    \"1\": \"Primes\"\n",
    "}\n",
    "\n",
    "for key in programs:\n",
    "    options += \"\\t[\" + key + \"] : \" + programs[key] + \"\\n\"\n",
    "\n",
    "res = input(\"Which pattern do you want to see?\\n\\n\" + options + \"\\nEnter the number that corresponds to\\nthe program you wish to run: \")\n",
    "\n",
    "# add values to each list | always start @ 0,0\n",
    "xcords = []\n",
    "ycords = []\n",
    "\n",
    "n = 100\n",
    "\n",
    "if programs[res] == \"Primes\":\n",
    "    xcords, ycords = primes(n)\n",
    "\n",
    "print(\"\\n\\nNumber of \" + programs[res] + \" in \" + str(n) + \" numbers: \", len(xcords))\n",
    "\n",
    "plt.scatter(xcords, ycords, c=\"black\")\n",
    "plt.show()"
   ]
  },
  {
   "cell_type": "code",
   "execution_count": null,
   "id": "2abd18e2-a22c-4aa1-8fbb-e7adb5b3d324",
   "metadata": {},
   "outputs": [],
   "source": []
  }
 ],
 "metadata": {
  "kernelspec": {
   "display_name": "Python 3 (ipykernel)",
   "language": "python",
   "name": "python3"
  },
  "language_info": {
   "codemirror_mode": {
    "name": "ipython",
    "version": 3
   },
   "file_extension": ".py",
   "mimetype": "text/x-python",
   "name": "python",
   "nbconvert_exporter": "python",
   "pygments_lexer": "ipython3",
   "version": "3.9.13"
  }
 },
 "nbformat": 4,
 "nbformat_minor": 5
}
